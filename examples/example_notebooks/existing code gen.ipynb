{
 "cells": [
  {
   "cell_type": "code",
   "execution_count": 1,
   "id": "3fa476d9",
   "metadata": {},
   "outputs": [],
   "source": [
    "from whylabs_client import Configuration, ApiClient \n",
    "from whylabs_client.api.models_api import ModelsApi\n"
   ]
  },
  {
   "cell_type": "code",
   "execution_count": 2,
   "id": "db0bed91",
   "metadata": {},
   "outputs": [],
   "source": [
    "config = Configuration()\n",
    "# config.host = 'http://localhost:8080'\n",
    "config.access_token = \"accesstoken\"\n",
    "config.host = 'https://api.whylabsapp.com'\n",
    "config.api_key = {\"ApiKeyAuth\":'accesstoken'}\n"
   ]
  },
  {
   "cell_type": "code",
   "execution_count": 3,
   "id": "8ab6accd",
   "metadata": {},
   "outputs": [],
   "source": [
    "client = ApiClient(config)\n",
    "api = ModelsApi(client)\n",
    "org_id = 'org-id'\n",
    "\n",
    "\n",
    "models = api.list_models(org_id=org_id)"
   ]
  },
  {
   "cell_type": "markdown",
   "id": "539dac10",
   "metadata": {},
   "source": [
    "models"
   ]
  },
  {
   "cell_type": "code",
   "execution_count": 4,
   "id": "d0443c2a",
   "metadata": {},
   "outputs": [
    {
     "name": "stdout",
     "output_type": "stream",
     "text": [
      "{'items': [{'active': True,\n",
      "            'creation_time': 1633664761060,\n",
      "            'id': 'model-1',\n",
      "            'model_type': 'CLASSIFICATION',\n",
      "            'name': 'model-1',\n",
      "            'org_id': 'org-JpsdM6',\n",
      "            'time_period': 'P1D'},\n",
      "           {'active': True,\n",
      "            'creation_time': 1660237749568,\n",
      "            'id': 'model-10',\n",
      "            'name': 'Databricks Model Demo',\n",
      "            'org_id': 'org-JpsdM6',\n",
      "            'time_period': 'P1D'},\n",
      "           {'active': True,\n",
      "            'creation_time': 1660238374508,\n",
      "            'id': 'model-11',\n",
      "            'name': 'New databricks demo',\n",
      "            'org_id': 'org-JpsdM6',\n",
      "            'time_period': 'P1D'},\n",
      "           {'active': True,\n",
      "            'creation_time': 1660332843157,\n",
      "            'id': 'model-12',\n",
      "            'name': 'proof the container works',\n",
      "            'org_id': 'org-JpsdM6',\n",
      "            'time_period': 'P1D'},\n",
      "           {'active': True,\n",
      "            'creation_time': 1670354822921,\n",
      "            'id': 'model-13',\n",
      "            'name': 'whylogs-cfg',\n",
      "            'org_id': 'org-JpsdM6',\n",
      "            'time_period': 'P1D'},\n",
      "           {'active': True,\n",
      "            'creation_time': 1645473304284,\n",
      "            'id': 'model-4',\n",
      "            'name': 'Demo - Historic Data',\n",
      "            'org_id': 'org-JpsdM6',\n",
      "            'time_period': 'P1D'},\n",
      "           {'active': True,\n",
      "            'creation_time': 1658507575517,\n",
      "            'id': 'model-5',\n",
      "            'name': 'WoW Auction House - KilJaeden',\n",
      "            'org_id': 'org-JpsdM6',\n",
      "            'time_period': 'P1D'}]}\n"
     ]
    }
   ],
   "source": [
    "print(models)"
   ]
  },
  {
   "cell_type": "code",
   "execution_count": null,
   "id": "134354f2",
   "metadata": {},
   "outputs": [],
   "source": []
  }
 ],
 "metadata": {
  "kernelspec": {
   "display_name": "Python 3",
   "language": "python",
   "name": "python3"
  },
  "language_info": {
   "codemirror_mode": {
    "name": "ipython",
    "version": 3
   },
   "file_extension": ".py",
   "mimetype": "text/x-python",
   "name": "python",
   "nbconvert_exporter": "python",
   "pygments_lexer": "ipython3",
   "version": "3.8.15 (default, Nov 28 2022, 21:06:00) \n[Clang 14.0.0 (clang-1400.0.29.202)]"
  },
  "vscode": {
   "interpreter": {
    "hash": "93b212bf6261bb0ca5bb2db3e02282b672a30bcdd7bd2155c052e2f61b7dda1f"
   }
  }
 },
 "nbformat": 4,
 "nbformat_minor": 5
}
