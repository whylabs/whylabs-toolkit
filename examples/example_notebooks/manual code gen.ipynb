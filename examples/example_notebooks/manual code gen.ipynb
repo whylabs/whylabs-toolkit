{
 "cells": [
  {
   "cell_type": "code",
   "execution_count": 19,
   "id": "989a389e",
   "metadata": {},
   "outputs": [],
   "source": [
    "from swagger_client import Configuration, ApiClient, ModelsApi, LogApi, LogAsyncRequest\n"
   ]
  },
  {
   "cell_type": "code",
   "execution_count": 4,
   "id": "6db2c060",
   "metadata": {},
   "outputs": [],
   "source": [
    "config = Configuration()\n",
    "config.access_token = 'accesstoken'\n",
    "config.host = 'https://api.whylabsapp.com'\n",
    "config.api_key = {\"ApiKeyAuth\":'accesstoken'}"
   ]
  },
  {
   "cell_type": "code",
   "execution_count": 7,
   "id": "f4673ed9",
   "metadata": {},
   "outputs": [],
   "source": [
    "config = Configuration()\n",
    "config.access_token = 'accesstoken'\n",
    "config.host = 'https://api.whylabsapp.com'\n",
    "config.api_key = {\"X-API-Key\":'accesstoken'}\n",
    "\n",
    "client = ApiClient(config)\n",
    "api = ModelsApi(client)\n",
    "org_id = 'org-JpsdM6'\n",
    "models = api.list_models(org_id=org_id)\n"
   ]
  },
  {
   "cell_type": "code",
   "execution_count": 14,
   "id": "9447f6d8",
   "metadata": {},
   "outputs": [],
   "source": [
    "from swagger_client import Configuration, ApiClient, ModelsApi, LogApi\n"
   ]
  },
  {
   "cell_type": "code",
   "execution_count": 18,
   "id": "354f2dc5",
   "metadata": {},
   "outputs": [],
   "source": [
    "body = {\n",
    "  \"datasetTimestamp\": 0,\n",
    "  \"segmentTags\": [\n",
    "    {\n",
    "      \"key\": \"string\",\n",
    "      \"value\": \"string\"\n",
    "    }\n",
    "  ]\n",
    "}\n",
    "log = LogApi(client)\n",
    "response = log.log_async(org_id=org_id, dataset_id=\"model-1\", body=body)"
   ]
  },
  {
   "cell_type": "code",
   "execution_count": null,
   "id": "0dd8e5af",
   "metadata": {},
   "outputs": [],
   "source": [
    "request = LogAsyncRequest(dataset_timestamp=0)\n"
   ]
  }
 ],
 "metadata": {
  "kernelspec": {
   "display_name": ".venv",
   "language": "python",
   "name": "python3"
  },
  "language_info": {
   "codemirror_mode": {
    "name": "ipython",
    "version": 3
   },
   "file_extension": ".py",
   "mimetype": "text/x-python",
   "name": "python",
   "nbconvert_exporter": "python",
   "pygments_lexer": "ipython3",
   "version": "3.8.15 (default, Nov 28 2022, 21:06:00) \n[Clang 14.0.0 (clang-1400.0.29.202)]"
  },
  "vscode": {
   "interpreter": {
    "hash": "a984ccc36b1e9c494eccba45e57471b7dc8d51562c767477f459087bfced0efc"
   }
  }
 },
 "nbformat": 4,
 "nbformat_minor": 5
}
